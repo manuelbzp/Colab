{
  "nbformat": 4,
  "nbformat_minor": 0,
  "metadata": {
    "colab": {
      "name": "Miprueba.ipynb",
      "provenance": [],
      "collapsed_sections": [],
      "mount_file_id": "1gZhyJU4_nMyAhp-cjuoPpQWD1NUCybYT",
      "authorship_tag": "ABX9TyN/k4QtFCGE65y6iWSRK4IR",
      "include_colab_link": true
    },
    "kernelspec": {
      "name": "python3",
      "display_name": "Python 3"
    },
    "language_info": {
      "name": "python"
    }
  },
  "cells": [
    {
      "cell_type": "markdown",
      "metadata": {
        "id": "view-in-github",
        "colab_type": "text"
      },
      "source": [
        "<a href=\"https://colab.research.google.com/github/manuelbzp/Colab/blob/main/Miprueba.ipynb\" target=\"_parent\"><img src=\"https://colab.research.google.com/assets/colab-badge.svg\" alt=\"Open In Colab\"/></a>"
      ]
    },
    {
      "cell_type": "markdown",
      "metadata": {
        "id": "GEKGNX9uZtMC"
      },
      "source": [
        "#Iniciando con Colab\n",
        "## Segundo titulo\n",
        "### Tercer Titulo\n",
        "\n",
        "Lista \n",
        "* Aprender\n",
        "* Practicar\n",
        "* Programar\n",
        "\n"
      ]
    },
    {
      "cell_type": "code",
      "metadata": {
        "colab": {
          "base_uri": "https://localhost:8080/"
        },
        "id": "-po3NTbHaELv",
        "outputId": "b784d304-6c18-44da-928e-78792d5fa32e"
      },
      "source": [
        "print(\"hola Mundo\")"
      ],
      "execution_count": 1,
      "outputs": [
        {
          "output_type": "stream",
          "name": "stdout",
          "text": [
            "hola Mundo\n"
          ]
        }
      ]
    },
    {
      "cell_type": "markdown",
      "metadata": {
        "id": "p5QUR-SRaM9j"
      },
      "source": [
        "Nuestro ejercicio"
      ]
    },
    {
      "cell_type": "code",
      "metadata": {
        "colab": {
          "base_uri": "https://localhost:8080/"
        },
        "id": "2AcwHEL-aP_g",
        "outputId": "dfae38f2-38f0-47a9-96f9-886b546cc172"
      },
      "source": [
        "a=2\n",
        "b=3\n",
        "a+b"
      ],
      "execution_count": 2,
      "outputs": [
        {
          "output_type": "execute_result",
          "data": {
            "text/plain": [
              "5"
            ]
          },
          "metadata": {},
          "execution_count": 2
        }
      ]
    },
    {
      "cell_type": "markdown",
      "metadata": {
        "id": "AOXlVG0Ua8M0"
      },
      "source": [
        "El texto entre [] nos indica el numero de ejecucion, este indica como un historial de comandos cuando fueron ejecutados.\n",
        "\n",
        "### Reiniciar variables y ejecucion\n",
        "Para esto vamos a Entorno de ejecucion/Reinicar entorno de ejecucion. \n",
        "\n",
        "### Ejecutar todo el codigo de una vez\n",
        "Para esto vamos a Entorno de ejecucion/Ejecutar todas\n",
        "\n",
        "### Guardar en Github\n",
        "Vamos a Archivo/Guardar una copia en github\n",
        "\n"
      ]
    }
  ]
}